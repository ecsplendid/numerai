{
 "cells": [
  {
   "cell_type": "code",
   "execution_count": 1,
   "metadata": {},
   "outputs": [
    {
     "name": "stderr",
     "output_type": "stream",
     "text": [
      "nr.zip: 160MB [00:09, 17.5MB/s]                                                                                                                      \n"
     ]
    }
   ],
   "source": [
    "import numerox as nx\n",
    "\n",
    "folder = \"numerai_datasets\"\n",
    " \n",
    "nx.data.TRAIN_FILE = '%s/numerai_training_data.csv' % folder\n",
    "nx.data.TOURNAMENT_FILE = '%s/numerai_tournament_data.csv' % folder\n",
    " \n",
    "data = nx.download('nr.zip')"
   ]
  },
  {
   "cell_type": "code",
   "execution_count": 2,
   "metadata": {},
   "outputs": [],
   "source": [
    "from pipe import *"
   ]
  },
  {
   "cell_type": "code",
   "execution_count": 3,
   "metadata": {},
   "outputs": [],
   "source": [
    "from pipe import *\n",
    "\n",
    "eras = set(data.era) | as_list \n",
    "\n",
    "era_data = eras    | select( lambda e: data.x[ np.logical_and( data.region=='train', data.era==e ) ] ) \\\n",
    "        | where( lambda e: e.shape[0] > 0 ) \\\n",
    "        | select( lambda e: e[10] )"
   ]
  },
  {
   "cell_type": "code",
   "execution_count": null,
   "metadata": {},
   "outputs": [],
   "source": []
  }
 ],
 "metadata": {
  "kernelspec": {
   "display_name": "Python [default]",
   "language": "python",
   "name": "python3"
  },
  "language_info": {
   "codemirror_mode": {
    "name": "ipython",
    "version": 3
   },
   "file_extension": ".py",
   "mimetype": "text/x-python",
   "name": "python",
   "nbconvert_exporter": "python",
   "pygments_lexer": "ipython3",
   "version": "3.6.5"
  }
 },
 "nbformat": 4,
 "nbformat_minor": 2
}
