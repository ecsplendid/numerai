{
 "cells": [
  {
   "cell_type": "code",
   "execution_count": 1,
   "metadata": {},
   "outputs": [
    {
     "name": "stderr",
     "output_type": "stream",
     "text": [
      "numerai_datasets.zip: 116MB [00:08, 13.1MB/s]                                                                                                                                                                                         \n"
     ]
    }
   ],
   "source": [
    "import numerox as nx\n",
    "import numpy as np\n",
    "\n",
    "# download dataset from numerai, save it and then load it\n",
    "data = nx.download('numerai_datasets.zip')"
   ]
  },
  {
   "cell_type": "code",
   "execution_count": 2,
   "metadata": {},
   "outputs": [
    {
     "data": {
      "text/plain": [
       "region    train, validation, test, live\n",
       "rows      636572\n",
       "era       178, [era1, eraX]\n",
       "x         50, min 0.0000, mean 0.5025, max 1.0000\n",
       "y         mean 0.499546, fraction missing 0.3088"
      ]
     },
     "execution_count": 2,
     "metadata": {},
     "output_type": "execute_result"
    }
   ],
   "source": [
    "data"
   ]
  },
  {
   "cell_type": "code",
   "execution_count": 3,
   "metadata": {},
   "outputs": [],
   "source": [
    "train_x = data.x[ data.region=='train' ]\n",
    "val_x = data.x[ data.region=='validation' ]\n",
    "train_y = data.y_df['bernie'][ data.region=='train' ].values\n",
    "val_y = data.y_df['bernie'][ data.region=='validation' ].values"
   ]
  },
  {
   "cell_type": "code",
   "execution_count": 12,
   "metadata": {},
   "outputs": [
    {
     "data": {
      "text/plain": [
       "array([[0.47416, 0.34143, 0.39528, ..., 0.39253, 0.41821, 0.58679],\n",
       "       [0.43487, 0.44645, 0.25802, ..., 0.49646, 0.48968, 0.54194],\n",
       "       [0.50038, 0.39216, 0.38394, ..., 0.80908, 0.50287, 0.61629],\n",
       "       ...,\n",
       "       [0.24786, 0.52512, 0.54871, ..., 0.45543, 0.52726, 0.55424],\n",
       "       [0.72172, 0.34589, 0.43964, ..., 0.6104 , 0.44847, 0.43843],\n",
       "       [0.43593, 0.44446, 0.34415, ..., 0.49284, 0.6222 , 0.51929]])"
      ]
     },
     "execution_count": 12,
     "metadata": {},
     "output_type": "execute_result"
    }
   ],
   "source": [
    "train_x"
   ]
  },
  {
   "cell_type": "code",
   "execution_count": 4,
   "metadata": {},
   "outputs": [],
   "source": [
    "import matplotlib.pyplot as plt\n",
    "\n",
    "def plot(history, val=True):\n",
    "    plt.plot(history.history['loss'][2:])\n",
    "    if val:\n",
    "        plt.plot(history.history['val_loss'][2:])\n",
    "    plt.title('model loss on Bernie!')\n",
    "    plt.ylabel('loss')\n",
    "    plt.xlabel('epoch')\n",
    "    plt.legend(['train', 'validation'], loc='upper left')\n",
    "    plt.show()"
   ]
  },
  {
   "cell_type": "code",
   "execution_count": 7,
   "metadata": {
    "scrolled": false
   },
   "outputs": [
    {
     "name": "stdout",
     "output_type": "stream",
     "text": [
      "Train on 393613 samples, validate on 46362 samples\n",
      "Epoch 1/200\n"
     ]
    },
    {
     "ename": "InternalError",
     "evalue": "GPU sync failed",
     "output_type": "error",
     "traceback": [
      "\u001b[1;31m---------------------------------------------------------------------------\u001b[0m",
      "\u001b[1;31mInternalError\u001b[0m                             Traceback (most recent call last)",
      "\u001b[1;32mC:\\Anaconda\\lib\\site-packages\\tensorflow\\python\\client\\session.py\u001b[0m in \u001b[0;36m_do_call\u001b[1;34m(self, fn, *args)\u001b[0m\n\u001b[0;32m   1277\u001b[0m     \u001b[1;32mtry\u001b[0m\u001b[1;33m:\u001b[0m\u001b[1;33m\u001b[0m\u001b[0m\n\u001b[1;32m-> 1278\u001b[1;33m       \u001b[1;32mreturn\u001b[0m \u001b[0mfn\u001b[0m\u001b[1;33m(\u001b[0m\u001b[1;33m*\u001b[0m\u001b[0margs\u001b[0m\u001b[1;33m)\u001b[0m\u001b[1;33m\u001b[0m\u001b[0m\n\u001b[0m\u001b[0;32m   1279\u001b[0m     \u001b[1;32mexcept\u001b[0m \u001b[0merrors\u001b[0m\u001b[1;33m.\u001b[0m\u001b[0mOpError\u001b[0m \u001b[1;32mas\u001b[0m \u001b[0me\u001b[0m\u001b[1;33m:\u001b[0m\u001b[1;33m\u001b[0m\u001b[0m\n",
      "\u001b[1;32mC:\\Anaconda\\lib\\site-packages\\tensorflow\\python\\client\\session.py\u001b[0m in \u001b[0;36m_run_fn\u001b[1;34m(feed_dict, fetch_list, target_list, options, run_metadata)\u001b[0m\n\u001b[0;32m   1262\u001b[0m       return self._call_tf_sessionrun(\n\u001b[1;32m-> 1263\u001b[1;33m           options, feed_dict, fetch_list, target_list, run_metadata)\n\u001b[0m\u001b[0;32m   1264\u001b[0m \u001b[1;33m\u001b[0m\u001b[0m\n",
      "\u001b[1;32mC:\\Anaconda\\lib\\site-packages\\tensorflow\\python\\client\\session.py\u001b[0m in \u001b[0;36m_call_tf_sessionrun\u001b[1;34m(self, options, feed_dict, fetch_list, target_list, run_metadata)\u001b[0m\n\u001b[0;32m   1349\u001b[0m         \u001b[0mself\u001b[0m\u001b[1;33m.\u001b[0m\u001b[0m_session\u001b[0m\u001b[1;33m,\u001b[0m \u001b[0moptions\u001b[0m\u001b[1;33m,\u001b[0m \u001b[0mfeed_dict\u001b[0m\u001b[1;33m,\u001b[0m \u001b[0mfetch_list\u001b[0m\u001b[1;33m,\u001b[0m \u001b[0mtarget_list\u001b[0m\u001b[1;33m,\u001b[0m\u001b[1;33m\u001b[0m\u001b[0m\n\u001b[1;32m-> 1350\u001b[1;33m         run_metadata)\n\u001b[0m\u001b[0;32m   1351\u001b[0m \u001b[1;33m\u001b[0m\u001b[0m\n",
      "\u001b[1;31mInternalError\u001b[0m: GPU sync failed",
      "\nDuring handling of the above exception, another exception occurred:\n",
      "\u001b[1;31mInternalError\u001b[0m                             Traceback (most recent call last)",
      "\u001b[1;32m<ipython-input-7-eb2ca1a80f05>\u001b[0m in \u001b[0;36m<module>\u001b[1;34m()\u001b[0m\n\u001b[0;32m     29\u001b[0m                     \u001b[0mepochs\u001b[0m\u001b[1;33m=\u001b[0m\u001b[1;36m200\u001b[0m\u001b[1;33m,\u001b[0m\u001b[1;33m\u001b[0m\u001b[0m\n\u001b[0;32m     30\u001b[0m                     \u001b[0mbatch_size\u001b[0m\u001b[1;33m=\u001b[0m\u001b[1;36m5000\u001b[0m\u001b[1;33m,\u001b[0m\u001b[1;33m\u001b[0m\u001b[0m\n\u001b[1;32m---> 31\u001b[1;33m                     shuffle=False)\n\u001b[0m\u001b[0;32m     32\u001b[0m \u001b[1;33m\u001b[0m\u001b[0m\n\u001b[0;32m     33\u001b[0m \u001b[0mplot\u001b[0m\u001b[1;33m(\u001b[0m\u001b[0mhistory\u001b[0m\u001b[1;33m)\u001b[0m\u001b[1;33m\u001b[0m\u001b[0m\n",
      "\u001b[1;32mC:\\Anaconda\\lib\\site-packages\\keras\\engine\\training.py\u001b[0m in \u001b[0;36mfit\u001b[1;34m(self, x, y, batch_size, epochs, verbose, callbacks, validation_split, validation_data, shuffle, class_weight, sample_weight, initial_epoch, steps_per_epoch, validation_steps, **kwargs)\u001b[0m\n\u001b[0;32m   1035\u001b[0m                                         \u001b[0minitial_epoch\u001b[0m\u001b[1;33m=\u001b[0m\u001b[0minitial_epoch\u001b[0m\u001b[1;33m,\u001b[0m\u001b[1;33m\u001b[0m\u001b[0m\n\u001b[0;32m   1036\u001b[0m                                         \u001b[0msteps_per_epoch\u001b[0m\u001b[1;33m=\u001b[0m\u001b[0msteps_per_epoch\u001b[0m\u001b[1;33m,\u001b[0m\u001b[1;33m\u001b[0m\u001b[0m\n\u001b[1;32m-> 1037\u001b[1;33m                                         validation_steps=validation_steps)\n\u001b[0m\u001b[0;32m   1038\u001b[0m \u001b[1;33m\u001b[0m\u001b[0m\n\u001b[0;32m   1039\u001b[0m     def evaluate(self, x=None, y=None,\n",
      "\u001b[1;32mC:\\Anaconda\\lib\\site-packages\\keras\\engine\\training_arrays.py\u001b[0m in \u001b[0;36mfit_loop\u001b[1;34m(model, f, ins, out_labels, batch_size, epochs, verbose, callbacks, val_f, val_ins, shuffle, callback_metrics, initial_epoch, steps_per_epoch, validation_steps)\u001b[0m\n\u001b[0;32m    197\u001b[0m                     \u001b[0mins_batch\u001b[0m\u001b[1;33m[\u001b[0m\u001b[0mi\u001b[0m\u001b[1;33m]\u001b[0m \u001b[1;33m=\u001b[0m \u001b[0mins_batch\u001b[0m\u001b[1;33m[\u001b[0m\u001b[0mi\u001b[0m\u001b[1;33m]\u001b[0m\u001b[1;33m.\u001b[0m\u001b[0mtoarray\u001b[0m\u001b[1;33m(\u001b[0m\u001b[1;33m)\u001b[0m\u001b[1;33m\u001b[0m\u001b[0m\n\u001b[0;32m    198\u001b[0m \u001b[1;33m\u001b[0m\u001b[0m\n\u001b[1;32m--> 199\u001b[1;33m                 \u001b[0mouts\u001b[0m \u001b[1;33m=\u001b[0m \u001b[0mf\u001b[0m\u001b[1;33m(\u001b[0m\u001b[0mins_batch\u001b[0m\u001b[1;33m)\u001b[0m\u001b[1;33m\u001b[0m\u001b[0m\n\u001b[0m\u001b[0;32m    200\u001b[0m                 \u001b[0mouts\u001b[0m \u001b[1;33m=\u001b[0m \u001b[0mto_list\u001b[0m\u001b[1;33m(\u001b[0m\u001b[0mouts\u001b[0m\u001b[1;33m)\u001b[0m\u001b[1;33m\u001b[0m\u001b[0m\n\u001b[0;32m    201\u001b[0m                 \u001b[1;32mfor\u001b[0m \u001b[0ml\u001b[0m\u001b[1;33m,\u001b[0m \u001b[0mo\u001b[0m \u001b[1;32min\u001b[0m \u001b[0mzip\u001b[0m\u001b[1;33m(\u001b[0m\u001b[0mout_labels\u001b[0m\u001b[1;33m,\u001b[0m \u001b[0mouts\u001b[0m\u001b[1;33m)\u001b[0m\u001b[1;33m:\u001b[0m\u001b[1;33m\u001b[0m\u001b[0m\n",
      "\u001b[1;32mC:\\Anaconda\\lib\\site-packages\\keras\\backend\\tensorflow_backend.py\u001b[0m in \u001b[0;36m__call__\u001b[1;34m(self, inputs)\u001b[0m\n\u001b[0;32m   2656\u001b[0m \u001b[1;33m\u001b[0m\u001b[0m\n\u001b[0;32m   2657\u001b[0m     \u001b[1;32mdef\u001b[0m \u001b[0m__call__\u001b[0m\u001b[1;33m(\u001b[0m\u001b[0mself\u001b[0m\u001b[1;33m,\u001b[0m \u001b[0minputs\u001b[0m\u001b[1;33m)\u001b[0m\u001b[1;33m:\u001b[0m\u001b[1;33m\u001b[0m\u001b[0m\n\u001b[1;32m-> 2658\u001b[1;33m         \u001b[1;32mif\u001b[0m \u001b[0mhasattr\u001b[0m\u001b[1;33m(\u001b[0m\u001b[0mget_session\u001b[0m\u001b[1;33m(\u001b[0m\u001b[1;33m)\u001b[0m\u001b[1;33m,\u001b[0m \u001b[1;34m'_make_callable_from_options'\u001b[0m\u001b[1;33m)\u001b[0m\u001b[1;33m:\u001b[0m\u001b[1;33m\u001b[0m\u001b[0m\n\u001b[0m\u001b[0;32m   2659\u001b[0m             \u001b[1;32mif\u001b[0m \u001b[0mpy_any\u001b[0m\u001b[1;33m(\u001b[0m\u001b[0mis_sparse\u001b[0m\u001b[1;33m(\u001b[0m\u001b[0mx\u001b[0m\u001b[1;33m)\u001b[0m \u001b[1;32mfor\u001b[0m \u001b[0mx\u001b[0m \u001b[1;32min\u001b[0m \u001b[0mself\u001b[0m\u001b[1;33m.\u001b[0m\u001b[0minputs\u001b[0m\u001b[1;33m)\u001b[0m\u001b[1;33m:\u001b[0m\u001b[1;33m\u001b[0m\u001b[0m\n\u001b[0;32m   2660\u001b[0m                 \u001b[1;32mif\u001b[0m \u001b[0mpy_any\u001b[0m\u001b[1;33m(\u001b[0m\u001b[0mis_tensor\u001b[0m\u001b[1;33m(\u001b[0m\u001b[0mx\u001b[0m\u001b[1;33m)\u001b[0m \u001b[1;32mfor\u001b[0m \u001b[0mx\u001b[0m \u001b[1;32min\u001b[0m \u001b[0minputs\u001b[0m\u001b[1;33m)\u001b[0m\u001b[1;33m:\u001b[0m\u001b[1;33m\u001b[0m\u001b[0m\n",
      "\u001b[1;32mC:\\Anaconda\\lib\\site-packages\\keras\\backend\\tensorflow_backend.py\u001b[0m in \u001b[0;36mget_session\u001b[1;34m()\u001b[0m\n\u001b[0;32m    195\u001b[0m                 \u001b[1;31m# not already marked as initialized.\u001b[0m\u001b[1;33m\u001b[0m\u001b[1;33m\u001b[0m\u001b[0m\n\u001b[0;32m    196\u001b[0m                 is_initialized = session.run(\n\u001b[1;32m--> 197\u001b[1;33m                     [tf.is_variable_initialized(v) for v in candidate_vars])\n\u001b[0m\u001b[0;32m    198\u001b[0m                 \u001b[0muninitialized_vars\u001b[0m \u001b[1;33m=\u001b[0m \u001b[1;33m[\u001b[0m\u001b[1;33m]\u001b[0m\u001b[1;33m\u001b[0m\u001b[0m\n\u001b[0;32m    199\u001b[0m                 \u001b[1;32mfor\u001b[0m \u001b[0mflag\u001b[0m\u001b[1;33m,\u001b[0m \u001b[0mv\u001b[0m \u001b[1;32min\u001b[0m \u001b[0mzip\u001b[0m\u001b[1;33m(\u001b[0m\u001b[0mis_initialized\u001b[0m\u001b[1;33m,\u001b[0m \u001b[0mcandidate_vars\u001b[0m\u001b[1;33m)\u001b[0m\u001b[1;33m:\u001b[0m\u001b[1;33m\u001b[0m\u001b[0m\n",
      "\u001b[1;32mC:\\Anaconda\\lib\\site-packages\\tensorflow\\python\\client\\session.py\u001b[0m in \u001b[0;36mrun\u001b[1;34m(self, fetches, feed_dict, options, run_metadata)\u001b[0m\n\u001b[0;32m    875\u001b[0m     \u001b[1;32mtry\u001b[0m\u001b[1;33m:\u001b[0m\u001b[1;33m\u001b[0m\u001b[0m\n\u001b[0;32m    876\u001b[0m       result = self._run(None, fetches, feed_dict, options_ptr,\n\u001b[1;32m--> 877\u001b[1;33m                          run_metadata_ptr)\n\u001b[0m\u001b[0;32m    878\u001b[0m       \u001b[1;32mif\u001b[0m \u001b[0mrun_metadata\u001b[0m\u001b[1;33m:\u001b[0m\u001b[1;33m\u001b[0m\u001b[0m\n\u001b[0;32m    879\u001b[0m         \u001b[0mproto_data\u001b[0m \u001b[1;33m=\u001b[0m \u001b[0mtf_session\u001b[0m\u001b[1;33m.\u001b[0m\u001b[0mTF_GetBuffer\u001b[0m\u001b[1;33m(\u001b[0m\u001b[0mrun_metadata_ptr\u001b[0m\u001b[1;33m)\u001b[0m\u001b[1;33m\u001b[0m\u001b[0m\n",
      "\u001b[1;32mC:\\Anaconda\\lib\\site-packages\\tensorflow\\python\\client\\session.py\u001b[0m in \u001b[0;36m_run\u001b[1;34m(self, handle, fetches, feed_dict, options, run_metadata)\u001b[0m\n\u001b[0;32m   1098\u001b[0m     \u001b[1;32mif\u001b[0m \u001b[0mfinal_fetches\u001b[0m \u001b[1;32mor\u001b[0m \u001b[0mfinal_targets\u001b[0m \u001b[1;32mor\u001b[0m \u001b[1;33m(\u001b[0m\u001b[0mhandle\u001b[0m \u001b[1;32mand\u001b[0m \u001b[0mfeed_dict_tensor\u001b[0m\u001b[1;33m)\u001b[0m\u001b[1;33m:\u001b[0m\u001b[1;33m\u001b[0m\u001b[0m\n\u001b[0;32m   1099\u001b[0m       results = self._do_run(handle, final_targets, final_fetches,\n\u001b[1;32m-> 1100\u001b[1;33m                              feed_dict_tensor, options, run_metadata)\n\u001b[0m\u001b[0;32m   1101\u001b[0m     \u001b[1;32melse\u001b[0m\u001b[1;33m:\u001b[0m\u001b[1;33m\u001b[0m\u001b[0m\n\u001b[0;32m   1102\u001b[0m       \u001b[0mresults\u001b[0m \u001b[1;33m=\u001b[0m \u001b[1;33m[\u001b[0m\u001b[1;33m]\u001b[0m\u001b[1;33m\u001b[0m\u001b[0m\n",
      "\u001b[1;32mC:\\Anaconda\\lib\\site-packages\\tensorflow\\python\\client\\session.py\u001b[0m in \u001b[0;36m_do_run\u001b[1;34m(self, handle, target_list, fetch_list, feed_dict, options, run_metadata)\u001b[0m\n\u001b[0;32m   1270\u001b[0m     \u001b[1;32mif\u001b[0m \u001b[0mhandle\u001b[0m \u001b[1;32mis\u001b[0m \u001b[1;32mNone\u001b[0m\u001b[1;33m:\u001b[0m\u001b[1;33m\u001b[0m\u001b[0m\n\u001b[0;32m   1271\u001b[0m       return self._do_call(_run_fn, feeds, fetches, targets, options,\n\u001b[1;32m-> 1272\u001b[1;33m                            run_metadata)\n\u001b[0m\u001b[0;32m   1273\u001b[0m     \u001b[1;32melse\u001b[0m\u001b[1;33m:\u001b[0m\u001b[1;33m\u001b[0m\u001b[0m\n\u001b[0;32m   1274\u001b[0m       \u001b[1;32mreturn\u001b[0m \u001b[0mself\u001b[0m\u001b[1;33m.\u001b[0m\u001b[0m_do_call\u001b[0m\u001b[1;33m(\u001b[0m\u001b[0m_prun_fn\u001b[0m\u001b[1;33m,\u001b[0m \u001b[0mhandle\u001b[0m\u001b[1;33m,\u001b[0m \u001b[0mfeeds\u001b[0m\u001b[1;33m,\u001b[0m \u001b[0mfetches\u001b[0m\u001b[1;33m)\u001b[0m\u001b[1;33m\u001b[0m\u001b[0m\n",
      "\u001b[1;32mC:\\Anaconda\\lib\\site-packages\\tensorflow\\python\\client\\session.py\u001b[0m in \u001b[0;36m_do_call\u001b[1;34m(self, fn, *args)\u001b[0m\n\u001b[0;32m   1289\u001b[0m         \u001b[1;32mexcept\u001b[0m \u001b[0mKeyError\u001b[0m\u001b[1;33m:\u001b[0m\u001b[1;33m\u001b[0m\u001b[0m\n\u001b[0;32m   1290\u001b[0m           \u001b[1;32mpass\u001b[0m\u001b[1;33m\u001b[0m\u001b[0m\n\u001b[1;32m-> 1291\u001b[1;33m       \u001b[1;32mraise\u001b[0m \u001b[0mtype\u001b[0m\u001b[1;33m(\u001b[0m\u001b[0me\u001b[0m\u001b[1;33m)\u001b[0m\u001b[1;33m(\u001b[0m\u001b[0mnode_def\u001b[0m\u001b[1;33m,\u001b[0m \u001b[0mop\u001b[0m\u001b[1;33m,\u001b[0m \u001b[0mmessage\u001b[0m\u001b[1;33m)\u001b[0m\u001b[1;33m\u001b[0m\u001b[0m\n\u001b[0m\u001b[0;32m   1292\u001b[0m \u001b[1;33m\u001b[0m\u001b[0m\n\u001b[0;32m   1293\u001b[0m   \u001b[1;32mdef\u001b[0m \u001b[0m_extend_graph\u001b[0m\u001b[1;33m(\u001b[0m\u001b[0mself\u001b[0m\u001b[1;33m)\u001b[0m\u001b[1;33m:\u001b[0m\u001b[1;33m\u001b[0m\u001b[0m\n",
      "\u001b[1;31mInternalError\u001b[0m: GPU sync failed"
     ]
    }
   ],
   "source": [
    "from keras.models import Sequential\n",
    "from keras.layers import Dense, Activation, Dropout\n",
    "from keras import regularizers\n",
    "\n",
    "model = Sequential([\n",
    "    Dense(32, input_shape=(50,)),\n",
    "    Activation('relu'),\n",
    "    Dropout(0.3),\n",
    "    Dense(100),\n",
    "    Activation('relu'),\n",
    "    Dropout(0.3),\n",
    "    Dense(100),\n",
    "    Activation('relu'),\n",
    "    Dropout(0.3),\n",
    "    Dense(100),\n",
    "    Activation('relu'),\n",
    "    Dropout(0.3),\n",
    "    Dense(1),\n",
    "    Activation('sigmoid'),\n",
    "])\n",
    "\n",
    "model.compile(optimizer='adam',\n",
    "              loss='binary_crossentropy',\n",
    "              metrics=['binary_crossentropy'])\n",
    "\n",
    "history = model.fit(train_x, \n",
    "                    train_y, \n",
    "                    validation_data=(val_x,val_y), \n",
    "                    epochs=200, \n",
    "                    batch_size=5000, \n",
    "                    shuffle=False)\n",
    "\n",
    "plot(history)"
   ]
  },
  {
   "cell_type": "code",
   "execution_count": 9,
   "metadata": {},
   "outputs": [
    {
     "data": {
      "image/png": "[encoded data removed]",
      "text/plain": [
       "<Figure size 432x288 with 1 Axes>"
      ]
     },
     "metadata": {},
     "output_type": "display_data"
    }
   ],
   "source": [
    "plot(history)"
   ]
  },
  {
   "cell_type": "code",
   "execution_count": 6,
   "metadata": {},
   "outputs": [
    {
     "name": "stderr",
     "output_type": "stream",
     "text": [
      "Using TensorFlow backend.\n"
     ]
    },
    {
     "name": "stdout",
     "output_type": "stream",
     "text": [
      "_________________________________________________________________\n",
      "Layer (type)                 Output Shape              Param #   \n",
      "=================================================================\n",
      "dense_1 (Dense)              (None, 100)               5100      \n",
      "_________________________________________________________________\n",
      "activation_1 (Activation)    (None, 100)               0         \n",
      "_________________________________________________________________\n",
      "dropout_1 (Dropout)          (None, 100)               0         \n",
      "_________________________________________________________________\n",
      "dense_2 (Dense)              (None, 100)               10100     \n",
      "_________________________________________________________________\n",
      "dense_3 (Dense)              (None, 1)                 101       \n",
      "_________________________________________________________________\n",
      "activation_2 (Activation)    (None, 1)                 0         \n",
      "=================================================================\n",
      "Total params: 15,301\n",
      "Trainable params: 15,301\n",
      "Non-trainable params: 0\n",
      "_________________________________________________________________\n",
      "Train on 393613 samples, validate on 46362 samples\n",
      "Epoch 1/50\n",
      "393613/393613 [==============================] - ETA: 6:00 - loss: 0.7075 - binary_crossentropy: 0.707 - ETA: 22s - loss: 0.6999 - binary_crossentropy: 0.699 - ETA: 11s - loss: 0.6973 - binary_crossentropy: 0.69 - ETA: 7s - loss: 0.6961 - binary_crossentropy: 0.6961 - ETA: 5s - loss: 0.6954 - binary_crossentropy: 0.695 - ETA: 4s - loss: 0.6949 - binary_crossentropy: 0.694 - ETA: 3s - loss: 0.6947 - binary_crossentropy: 0.694 - ETA: 2s - loss: 0.6945 - binary_crossentropy: 0.694 - ETA: 1s - loss: 0.6945 - binary_crossentropy: 0.694 - ETA: 1s - loss: 0.6945 - binary_crossentropy: 0.694 - ETA: 1s - loss: 0.6943 - binary_crossentropy: 0.694 - ETA: 0s - loss: 0.6942 - binary_crossentropy: 0.694 - ETA: 0s - loss: 0.6941 - binary_crossentropy: 0.694 - ETA: 0s - loss: 0.6941 - binary_crossentropy: 0.694 - ETA: 0s - loss: 0.6940 - binary_crossentropy: 0.694 - ETA: 0s - loss: 0.6940 - binary_crossentropy: 0.694 - 3s 7us/step - loss: 0.6939 - binary_crossentropy: 0.6939 - val_loss: 0.6931 - val_binary_crossentropy: 0.6931\n",
      "Epoch 2/50\n",
      " 79872/393613 [=====>........................] - ETA: 0s - loss: 0.6927 - binary_crossentropy: 0.692 - ETA: 0s - loss: 0.6933 - binary_crossentropy: 0.693 - ETA: 0s - loss: 0.6929 - binary_crossentropy: 0.692 - ETA: 0s - loss: 0.6930 - binary_crossentropy: 0.6930"
     ]
    },
    {
     "ename": "KeyboardInterrupt",
     "evalue": "",
     "output_type": "error",
     "traceback": [
      "\u001b[1;31m---------------------------------------------------------------------------\u001b[0m",
      "\u001b[1;31mKeyboardInterrupt\u001b[0m                         Traceback (most recent call last)",
      "\u001b[1;32m<ipython-input-6-1ac4a24324a4>\u001b[0m in \u001b[0;36m<module>\u001b[1;34m()\u001b[0m\n\u001b[0;32m     23\u001b[0m                     \u001b[0mepochs\u001b[0m\u001b[1;33m=\u001b[0m\u001b[1;36m50\u001b[0m\u001b[1;33m,\u001b[0m\u001b[1;33m\u001b[0m\u001b[0m\n\u001b[0;32m     24\u001b[0m                     \u001b[0mbatch_size\u001b[0m\u001b[1;33m=\u001b[0m\u001b[1;36m2048\u001b[0m\u001b[1;33m,\u001b[0m\u001b[1;33m\u001b[0m\u001b[0m\n\u001b[1;32m---> 25\u001b[1;33m                     shuffle=False)\n\u001b[0m\u001b[0;32m     26\u001b[0m \u001b[1;33m\u001b[0m\u001b[0m\n\u001b[0;32m     27\u001b[0m \u001b[0mplot\u001b[0m\u001b[1;33m(\u001b[0m\u001b[0mhistory\u001b[0m\u001b[1;33m)\u001b[0m\u001b[1;33m\u001b[0m\u001b[0m\n",
      "\u001b[1;32mc:\\program files\\python36\\lib\\site-packages\\keras\\engine\\training.py\u001b[0m in \u001b[0;36mfit\u001b[1;34m(self, x, y, batch_size, epochs, verbose, callbacks, validation_split, validation_data, shuffle, class_weight, sample_weight, initial_epoch, steps_per_epoch, validation_steps, **kwargs)\u001b[0m\n\u001b[0;32m   1035\u001b[0m                                         \u001b[0minitial_epoch\u001b[0m\u001b[1;33m=\u001b[0m\u001b[0minitial_epoch\u001b[0m\u001b[1;33m,\u001b[0m\u001b[1;33m\u001b[0m\u001b[0m\n\u001b[0;32m   1036\u001b[0m                                         \u001b[0msteps_per_epoch\u001b[0m\u001b[1;33m=\u001b[0m\u001b[0msteps_per_epoch\u001b[0m\u001b[1;33m,\u001b[0m\u001b[1;33m\u001b[0m\u001b[0m\n\u001b[1;32m-> 1037\u001b[1;33m                                         validation_steps=validation_steps)\n\u001b[0m\u001b[0;32m   1038\u001b[0m \u001b[1;33m\u001b[0m\u001b[0m\n\u001b[0;32m   1039\u001b[0m     def evaluate(self, x=None, y=None,\n",
      "\u001b[1;32mc:\\program files\\python36\\lib\\site-packages\\keras\\engine\\training_arrays.py\u001b[0m in \u001b[0;36mfit_loop\u001b[1;34m(model, f, ins, out_labels, batch_size, epochs, verbose, callbacks, val_f, val_ins, shuffle, callback_metrics, initial_epoch, steps_per_epoch, validation_steps)\u001b[0m\n\u001b[0;32m    197\u001b[0m                     \u001b[0mins_batch\u001b[0m\u001b[1;33m[\u001b[0m\u001b[0mi\u001b[0m\u001b[1;33m]\u001b[0m \u001b[1;33m=\u001b[0m \u001b[0mins_batch\u001b[0m\u001b[1;33m[\u001b[0m\u001b[0mi\u001b[0m\u001b[1;33m]\u001b[0m\u001b[1;33m.\u001b[0m\u001b[0mtoarray\u001b[0m\u001b[1;33m(\u001b[0m\u001b[1;33m)\u001b[0m\u001b[1;33m\u001b[0m\u001b[0m\n\u001b[0;32m    198\u001b[0m \u001b[1;33m\u001b[0m\u001b[0m\n\u001b[1;32m--> 199\u001b[1;33m                 \u001b[0mouts\u001b[0m \u001b[1;33m=\u001b[0m \u001b[0mf\u001b[0m\u001b[1;33m(\u001b[0m\u001b[0mins_batch\u001b[0m\u001b[1;33m)\u001b[0m\u001b[1;33m\u001b[0m\u001b[0m\n\u001b[0m\u001b[0;32m    200\u001b[0m                 \u001b[0mouts\u001b[0m \u001b[1;33m=\u001b[0m \u001b[0mto_list\u001b[0m\u001b[1;33m(\u001b[0m\u001b[0mouts\u001b[0m\u001b[1;33m)\u001b[0m\u001b[1;33m\u001b[0m\u001b[0m\n\u001b[0;32m    201\u001b[0m                 \u001b[1;32mfor\u001b[0m \u001b[0ml\u001b[0m\u001b[1;33m,\u001b[0m \u001b[0mo\u001b[0m \u001b[1;32min\u001b[0m \u001b[0mzip\u001b[0m\u001b[1;33m(\u001b[0m\u001b[0mout_labels\u001b[0m\u001b[1;33m,\u001b[0m \u001b[0mouts\u001b[0m\u001b[1;33m)\u001b[0m\u001b[1;33m:\u001b[0m\u001b[1;33m\u001b[0m\u001b[0m\n",
      "\u001b[1;32mc:\\program files\\python36\\lib\\site-packages\\keras\\backend\\tensorflow_backend.py\u001b[0m in \u001b[0;36m__call__\u001b[1;34m(self, inputs)\u001b[0m\n\u001b[0;32m   2664\u001b[0m                 \u001b[1;32mreturn\u001b[0m \u001b[0mself\u001b[0m\u001b[1;33m.\u001b[0m\u001b[0m_legacy_call\u001b[0m\u001b[1;33m(\u001b[0m\u001b[0minputs\u001b[0m\u001b[1;33m)\u001b[0m\u001b[1;33m\u001b[0m\u001b[0m\n\u001b[0;32m   2665\u001b[0m \u001b[1;33m\u001b[0m\u001b[0m\n\u001b[1;32m-> 2666\u001b[1;33m             \u001b[1;32mreturn\u001b[0m \u001b[0mself\u001b[0m\u001b[1;33m.\u001b[0m\u001b[0m_call\u001b[0m\u001b[1;33m(\u001b[0m\u001b[0minputs\u001b[0m\u001b[1;33m)\u001b[0m\u001b[1;33m\u001b[0m\u001b[0m\n\u001b[0m\u001b[0;32m   2667\u001b[0m         \u001b[1;32melse\u001b[0m\u001b[1;33m:\u001b[0m\u001b[1;33m\u001b[0m\u001b[0m\n\u001b[0;32m   2668\u001b[0m             \u001b[1;32mif\u001b[0m \u001b[0mpy_any\u001b[0m\u001b[1;33m(\u001b[0m\u001b[0mis_tensor\u001b[0m\u001b[1;33m(\u001b[0m\u001b[0mx\u001b[0m\u001b[1;33m)\u001b[0m \u001b[1;32mfor\u001b[0m \u001b[0mx\u001b[0m \u001b[1;32min\u001b[0m \u001b[0minputs\u001b[0m\u001b[1;33m)\u001b[0m\u001b[1;33m:\u001b[0m\u001b[1;33m\u001b[0m\u001b[0m\n",
      "\u001b[1;32mc:\\program files\\python36\\lib\\site-packages\\keras\\backend\\tensorflow_backend.py\u001b[0m in \u001b[0;36m_call\u001b[1;34m(self, inputs)\u001b[0m\n\u001b[0;32m   2634\u001b[0m                                 \u001b[0msymbol_vals\u001b[0m\u001b[1;33m,\u001b[0m\u001b[1;33m\u001b[0m\u001b[0m\n\u001b[0;32m   2635\u001b[0m                                 session)\n\u001b[1;32m-> 2636\u001b[1;33m         \u001b[0mfetched\u001b[0m \u001b[1;33m=\u001b[0m \u001b[0mself\u001b[0m\u001b[1;33m.\u001b[0m\u001b[0m_callable_fn\u001b[0m\u001b[1;33m(\u001b[0m\u001b[1;33m*\u001b[0m\u001b[0marray_vals\u001b[0m\u001b[1;33m)\u001b[0m\u001b[1;33m\u001b[0m\u001b[0m\n\u001b[0m\u001b[0;32m   2637\u001b[0m         \u001b[1;32mreturn\u001b[0m \u001b[0mfetched\u001b[0m\u001b[1;33m[\u001b[0m\u001b[1;33m:\u001b[0m\u001b[0mlen\u001b[0m\u001b[1;33m(\u001b[0m\u001b[0mself\u001b[0m\u001b[1;33m.\u001b[0m\u001b[0moutputs\u001b[0m\u001b[1;33m)\u001b[0m\u001b[1;33m]\u001b[0m\u001b[1;33m\u001b[0m\u001b[0m\n\u001b[0;32m   2638\u001b[0m \u001b[1;33m\u001b[0m\u001b[0m\n",
      "\u001b[1;32mc:\\program files\\python36\\lib\\site-packages\\tensorflow\\python\\client\\session.py\u001b[0m in \u001b[0;36m__call__\u001b[1;34m(self, *args, **kwargs)\u001b[0m\n\u001b[0;32m   1397\u001b[0m           ret = tf_session.TF_SessionRunCallable(\n\u001b[0;32m   1398\u001b[0m               \u001b[0mself\u001b[0m\u001b[1;33m.\u001b[0m\u001b[0m_session\u001b[0m\u001b[1;33m.\u001b[0m\u001b[0m_session\u001b[0m\u001b[1;33m,\u001b[0m \u001b[0mself\u001b[0m\u001b[1;33m.\u001b[0m\u001b[0m_handle\u001b[0m\u001b[1;33m,\u001b[0m \u001b[0margs\u001b[0m\u001b[1;33m,\u001b[0m \u001b[0mstatus\u001b[0m\u001b[1;33m,\u001b[0m\u001b[1;33m\u001b[0m\u001b[0m\n\u001b[1;32m-> 1399\u001b[1;33m               run_metadata_ptr)\n\u001b[0m\u001b[0;32m   1400\u001b[0m         \u001b[1;32mif\u001b[0m \u001b[0mrun_metadata\u001b[0m\u001b[1;33m:\u001b[0m\u001b[1;33m\u001b[0m\u001b[0m\n\u001b[0;32m   1401\u001b[0m           \u001b[0mproto_data\u001b[0m \u001b[1;33m=\u001b[0m \u001b[0mtf_session\u001b[0m\u001b[1;33m.\u001b[0m\u001b[0mTF_GetBuffer\u001b[0m\u001b[1;33m(\u001b[0m\u001b[0mrun_metadata_ptr\u001b[0m\u001b[1;33m)\u001b[0m\u001b[1;33m\u001b[0m\u001b[0m\n",
      "\u001b[1;31mKeyboardInterrupt\u001b[0m: "
     ]
    },
    {
     "name": "stderr",
     "output_type": "stream",
     "text": [
      "\r",
      "numerai_datasets.zip: 116MB [01:00, 3.01MB/s]                                                                                              "
     ]
    }
   ],
   "source": [
    "from keras.models import Sequential\n",
    "from keras.layers import Dense, Activation, Dropout\n",
    "from keras import regularizers\n",
    "\n",
    "model = Sequential([\n",
    "    Dense(100, input_shape=(50,)),\n",
    "    Activation('relu'),\n",
    "    Dropout(0.3),\n",
    "    Dense(100),\n",
    "    Dense(1),\n",
    "    Activation('sigmoid'),\n",
    "])\n",
    "\n",
    "model.summary()\n",
    "\n",
    "model.compile(optimizer='adam',\n",
    "              loss='binary_crossentropy',\n",
    "              metrics=['binary_crossentropy'])\n",
    "\n",
    "history = model.fit(train_x, \n",
    "                    train_y, \n",
    "                    validation_data=(val_x,val_y), \n",
    "                    epochs=50, \n",
    "                    batch_size=2048, \n",
    "                    shuffle=False)\n",
    "\n",
    "plot(history)\n",
    "#0.6925 best"
   ]
  },
  {
   "cell_type": "code",
   "execution_count": 61,
   "metadata": {},
   "outputs": [],
   "source": [
    "from more_itertools import *\n",
    "from pipe import *\n",
    "import math"
   ]
  },
  {
   "cell_type": "code",
   "execution_count": 11,
   "metadata": {},
   "outputs": [],
   "source": [
    "@Pipe\n",
    "def as_npy(l):\n",
    "    yield np.array(list(l))"
   ]
  },
  {
   "cell_type": "code",
   "execution_count": 73,
   "metadata": {},
   "outputs": [],
   "source": [
    "def getX(signals,step=5,window_size=20): \n",
    "    x = windowed( range(signals.shape[0]), window_size, step=step) \\\n",
    "    | select( lambda x: x | select(lambda y: signals[y]) | as_npy ) \\\n",
    "    | take((signals.shape[0]/step)-window_size) \\\n",
    "    | as_npy\n",
    "    return x.reshape( x.shape + (1,) )"
   ]
  },
  {
   "cell_type": "code",
   "execution_count": 59,
   "metadata": {},
   "outputs": [],
   "source": [
    "def getY(labels,step=5,window_size=20):\n",
    "    return labels[window_size:math.ceil((((labels.shape[0]/step)-window_size)+window_size))]"
   ]
  },
  {
   "cell_type": "code",
   "execution_count": 74,
   "metadata": {},
   "outputs": [],
   "source": [
    "X = getX(train_x)\n",
    "Y = getY(train_y)"
   ]
  },
  {
   "cell_type": "code",
   "execution_count": 83,
   "metadata": {},
   "outputs": [],
   "source": [
    "X_val = getX(val_x)\n",
    "Y_val = getY(val_y)"
   ]
  },
  {
   "cell_type": "code",
   "execution_count": 97,
   "metadata": {},
   "outputs": [
    {
     "name": "stdout",
     "output_type": "stream",
     "text": [
      "_________________________________________________________________\n",
      "Layer (type)                 Output Shape              Param #   \n",
      "=================================================================\n",
      "conv2d_27 (Conv2D)           (None, 18, 50, 50)        200       \n",
      "_________________________________________________________________\n",
      "activation_47 (Activation)   (None, 18, 50, 50)        0         \n",
      "_________________________________________________________________\n",
      "spatial_dropout2d_1 (Spatial (None, 18, 50, 50)        0         \n",
      "_________________________________________________________________\n",
      "conv2d_28 (Conv2D)           (None, 16, 50, 50)        7550      \n",
      "_________________________________________________________________\n",
      "activation_48 (Activation)   (None, 16, 50, 50)        0         \n",
      "_________________________________________________________________\n",
      "spatial_dropout2d_2 (Spatial (None, 16, 50, 50)        0         \n",
      "_________________________________________________________________\n",
      "conv2d_29 (Conv2D)           (None, 14, 50, 10)        1510      \n",
      "_________________________________________________________________\n",
      "activation_49 (Activation)   (None, 14, 50, 10)        0         \n",
      "_________________________________________________________________\n",
      "spatial_dropout2d_3 (Spatial (None, 14, 50, 10)        0         \n",
      "_________________________________________________________________\n",
      "conv2d_30 (Conv2D)           (None, 12, 50, 5)         155       \n",
      "_________________________________________________________________\n",
      "activation_50 (Activation)   (None, 12, 50, 5)         0         \n",
      "_________________________________________________________________\n",
      "spatial_dropout2d_4 (Spatial (None, 12, 50, 5)         0         \n",
      "_________________________________________________________________\n",
      "flatten_11 (Flatten)         (None, 3000)              0         \n",
      "_________________________________________________________________\n",
      "dropout_45 (Dropout)         (None, 3000)              0         \n",
      "_________________________________________________________________\n",
      "dense_56 (Dense)             (None, 100)               300100    \n",
      "_________________________________________________________________\n",
      "dropout_46 (Dropout)         (None, 100)               0         \n",
      "_________________________________________________________________\n",
      "dense_57 (Dense)             (None, 100)               10100     \n",
      "_________________________________________________________________\n",
      "dropout_47 (Dropout)         (None, 100)               0         \n",
      "_________________________________________________________________\n",
      "dense_58 (Dense)             (None, 100)               10100     \n",
      "_________________________________________________________________\n",
      "dropout_48 (Dropout)         (None, 100)               0         \n",
      "_________________________________________________________________\n",
      "dense_59 (Dense)             (None, 100)               10100     \n",
      "_________________________________________________________________\n",
      "dense_60 (Dense)             (None, 1)                 101       \n",
      "_________________________________________________________________\n",
      "activation_51 (Activation)   (None, 1)                 0         \n",
      "=================================================================\n",
      "Total params: 339,916\n",
      "Trainable params: 339,916\n",
      "Non-trainable params: 0\n",
      "_________________________________________________________________\n"
     ]
    }
   ],
   "source": [
    "from keras.models import Sequential\n",
    "from keras.layers import Dense, Activation, Dropout, Conv2D,Flatten,MaxPooling2D,SpatialDropout2D\n",
    "from keras import regularizers\n",
    "\n",
    "# cnn idea\n",
    "model = Sequential([\n",
    "    Conv2D(50, kernel_size=(3,1),input_shape=(20,50,1)),\n",
    "    Activation('relu'),\n",
    "    SpatialDropout2D(0.1),\n",
    "    Conv2D(50, kernel_size=(3,1)),\n",
    "    Activation('relu'),\n",
    "    SpatialDropout2D(0.1),\n",
    "    Conv2D(10, kernel_size=(3,1)),\n",
    "    Activation('relu'),\n",
    "    SpatialDropout2D(0.1),\n",
    "    Conv2D(5, kernel_size=(3,1)),\n",
    "    Activation('relu'),\n",
    "    SpatialDropout2D(0.1),\n",
    "    Flatten(),\n",
    "    Dropout(0.4),\n",
    "    Dense(100),\n",
    "    Dropout(0.4),\n",
    "    Dense(100),\n",
    "    Dropout(0.4),\n",
    "    Dense(100),\n",
    "    Dropout(0.4),\n",
    "    Dense(100),    \n",
    "    Dense(1),\n",
    "    Activation('sigmoid'),\n",
    "])\n",
    "\n",
    "model.summary()\n",
    "\n",
    "model.compile(optimizer='adam',\n",
    "              loss='binary_crossentropy',\n",
    "              metrics=['binary_crossentropy'])\n",
    "\n"
   ]
  },
  {
   "cell_type": "code",
   "execution_count": null,
   "metadata": {},
   "outputs": [
    {
     "name": "stdout",
     "output_type": "stream",
     "text": [
      "Train on 78703 samples, validate on 9253 samples\n",
      "Epoch 1/50\n",
      "78703/78703 [==============================] - ETA: 38s - loss: 0.6977 - binary_crossentropy: 0.69 - ETA: 18s - loss: 0.6993 - binary_crossentropy: 0.69 - ETA: 12s - loss: 0.6975 - binary_crossentropy: 0.69 - ETA: 8s - loss: 0.6967 - binary_crossentropy: 0.6967 - ETA: 6s - loss: 0.6962 - binary_crossentropy: 0.696 - ETA: 4s - loss: 0.6957 - binary_crossentropy: 0.695 - ETA: 3s - loss: 0.6954 - binary_crossentropy: 0.695 - ETA: 2s - loss: 0.6951 - binary_crossentropy: 0.695 - ETA: 2s - loss: 0.6949 - binary_crossentropy: 0.694 - ETA: 1s - loss: 0.6947 - binary_crossentropy: 0.694 - ETA: 0s - loss: 0.6946 - binary_crossentropy: 0.694 - ETA: 0s - loss: 0.6945 - binary_crossentropy: 0.694 - ETA: 0s - loss: 0.6944 - binary_crossentropy: 0.694 - 6s 81us/step - loss: 0.6944 - binary_crossentropy: 0.6944 - val_loss: 0.6932 - val_binary_crossentropy: 0.6932\n",
      "Epoch 2/50\n",
      "78703/78703 [==============================] - ETA: 2s - loss: 0.6931 - binary_crossentropy: 0.693 - ETA: 2s - loss: 0.6931 - binary_crossentropy: 0.693 - ETA: 1s - loss: 0.6931 - binary_crossentropy: 0.693 - ETA: 1s - loss: 0.6931 - binary_crossentropy: 0.693 - ETA: 1s - loss: 0.6931 - binary_crossentropy: 0.693 - ETA: 1s - loss: 0.6931 - binary_crossentropy: 0.693 - ETA: 1s - loss: 0.6931 - binary_crossentropy: 0.693 - ETA: 0s - loss: 0.6931 - binary_crossentropy: 0.693 - ETA: 0s - loss: 0.6931 - binary_crossentropy: 0.693 - ETA: 0s - loss: 0.6932 - binary_crossentropy: 0.693 - ETA: 0s - loss: 0.6932 - binary_crossentropy: 0.693 - ETA: 0s - loss: 0.6931 - binary_crossentropy: 0.693 - ETA: 0s - loss: 0.6931 - binary_crossentropy: 0.693 - 3s 33us/step - loss: 0.6931 - binary_crossentropy: 0.6931 - val_loss: 0.6931 - val_binary_crossentropy: 0.6931\n",
      "Epoch 3/50\n",
      "78703/78703 [==============================] - ETA: 2s - loss: 0.6931 - binary_crossentropy: 0.693 - ETA: 2s - loss: 0.6932 - binary_crossentropy: 0.693 - ETA: 1s - loss: 0.6932 - binary_crossentropy: 0.693 - ETA: 1s - loss: 0.6932 - binary_crossentropy: 0.693 - ETA: 1s - loss: 0.6932 - binary_crossentropy: 0.693 - ETA: 1s - loss: 0.6932 - binary_crossentropy: 0.693 - ETA: 1s - loss: 0.6932 - binary_crossentropy: 0.693 - ETA: 0s - loss: 0.6932 - binary_crossentropy: 0.693 - ETA: 0s - loss: 0.6932 - binary_crossentropy: 0.693 - ETA: 0s - loss: 0.6932 - binary_crossentropy: 0.693 - ETA: 0s - loss: 0.6932 - binary_crossentropy: 0.693 - ETA: 0s - loss: 0.6932 - binary_crossentropy: 0.693 - ETA: 0s - loss: 0.6932 - binary_crossentropy: 0.693 - 3s 33us/step - loss: 0.6932 - binary_crossentropy: 0.6932 - val_loss: 0.6931 - val_binary_crossentropy: 0.6931\n",
      "Epoch 4/50\n",
      "78703/78703 [==============================] - ETA: 2s - loss: 0.6931 - binary_crossentropy: 0.693 - ETA: 2s - loss: 0.6931 - binary_crossentropy: 0.693 - ETA: 1s - loss: 0.6932 - binary_crossentropy: 0.693 - ETA: 1s - loss: 0.6931 - binary_crossentropy: 0.693 - ETA: 1s - loss: 0.6931 - binary_crossentropy: 0.693 - ETA: 1s - loss: 0.6931 - binary_crossentropy: 0.693 - ETA: 1s - loss: 0.6931 - binary_crossentropy: 0.693 - ETA: 0s - loss: 0.6931 - binary_crossentropy: 0.693 - ETA: 0s - loss: 0.6931 - binary_crossentropy: 0.693 - ETA: 0s - loss: 0.6931 - binary_crossentropy: 0.693 - ETA: 0s - loss: 0.6931 - binary_crossentropy: 0.693 - ETA: 0s - loss: 0.6931 - binary_crossentropy: 0.693 - ETA: 0s - loss: 0.6932 - binary_crossentropy: 0.693 - 3s 33us/step - loss: 0.6932 - binary_crossentropy: 0.6932 - val_loss: 0.6932 - val_binary_crossentropy: 0.6932\n",
      "Epoch 5/50\n",
      "78703/78703 [==============================] - ETA: 2s - loss: 0.6932 - binary_crossentropy: 0.693 - ETA: 2s - loss: 0.6932 - binary_crossentropy: 0.693 - ETA: 1s - loss: 0.6932 - binary_crossentropy: 0.693 - ETA: 1s - loss: 0.6932 - binary_crossentropy: 0.693 - ETA: 1s - loss: 0.6932 - binary_crossentropy: 0.693 - ETA: 1s - loss: 0.6932 - binary_crossentropy: 0.693 - ETA: 1s - loss: 0.6932 - binary_crossentropy: 0.693 - ETA: 0s - loss: 0.6932 - binary_crossentropy: 0.693 - ETA: 0s - loss: 0.6932 - binary_crossentropy: 0.693 - ETA: 0s - loss: 0.6932 - binary_crossentropy: 0.693 - ETA: 0s - loss: 0.6932 - binary_crossentropy: 0.693 - ETA: 0s - loss: 0.6932 - binary_crossentropy: 0.693 - ETA: 0s - loss: 0.6932 - binary_crossentropy: 0.693 - 3s 33us/step - loss: 0.6932 - binary_crossentropy: 0.6932 - val_loss: 0.6932 - val_binary_crossentropy: 0.6932\n",
      "Epoch 6/50\n",
      "78703/78703 [==============================] - ETA: 2s - loss: 0.6930 - binary_crossentropy: 0.693 - ETA: 2s - loss: 0.6931 - binary_crossentropy: 0.693 - ETA: 1s - loss: 0.6932 - binary_crossentropy: 0.693 - ETA: 1s - loss: 0.6932 - binary_crossentropy: 0.693 - ETA: 1s - loss: 0.6933 - binary_crossentropy: 0.693 - ETA: 1s - loss: 0.6933 - binary_crossentropy: 0.693 - ETA: 1s - loss: 0.6933 - binary_crossentropy: 0.693 - ETA: 0s - loss: 0.6933 - binary_crossentropy: 0.693 - ETA: 0s - loss: 0.6933 - binary_crossentropy: 0.693 - ETA: 0s - loss: 0.6933 - binary_crossentropy: 0.693 - ETA: 0s - loss: 0.6933 - binary_crossentropy: 0.693 - ETA: 0s - loss: 0.6933 - binary_crossentropy: 0.693 - ETA: 0s - loss: 0.6932 - binary_crossentropy: 0.693 - 3s 33us/step - loss: 0.6932 - binary_crossentropy: 0.6932 - val_loss: 0.6932 - val_binary_crossentropy: 0.6932\n",
      "Epoch 7/50\n",
      "78703/78703 [==============================] - ETA: 2s - loss: 0.6931 - binary_crossentropy: 0.693 - ETA: 2s - loss: 0.6931 - binary_crossentropy: 0.693 - ETA: 1s - loss: 0.6931 - binary_crossentropy: 0.693 - ETA: 1s - loss: 0.6931 - binary_crossentropy: 0.693 - ETA: 1s - loss: 0.6931 - binary_crossentropy: 0.693 - ETA: 1s - loss: 0.6931 - binary_crossentropy: 0.693 - ETA: 1s - loss: 0.6931 - binary_crossentropy: 0.693 - ETA: 0s - loss: 0.6931 - binary_crossentropy: 0.693 - ETA: 0s - loss: 0.6931 - binary_crossentropy: 0.693 - ETA: 0s - loss: 0.6931 - binary_crossentropy: 0.693 - ETA: 0s - loss: 0.6931 - binary_crossentropy: 0.693 - ETA: 0s - loss: 0.6931 - binary_crossentropy: 0.693 - ETA: 0s - loss: 0.6931 - binary_crossentropy: 0.693 - 3s 33us/step - loss: 0.6931 - binary_crossentropy: 0.6931 - val_loss: 0.6931 - val_binary_crossentropy: 0.6931\n",
      "Epoch 8/50\n",
      "78703/78703 [==============================] - ETA: 2s - loss: 0.6932 - binary_crossentropy: 0.693 - ETA: 2s - loss: 0.6931 - binary_crossentropy: 0.693 - ETA: 1s - loss: 0.6931 - binary_crossentropy: 0.693 - ETA: 1s - loss: 0.6931 - binary_crossentropy: 0.693 - ETA: 1s - loss: 0.6932 - binary_crossentropy: 0.693 - ETA: 1s - loss: 0.6932 - binary_crossentropy: 0.693 - ETA: 1s - loss: 0.6932 - binary_crossentropy: 0.693 - ETA: 0s - loss: 0.6932 - binary_crossentropy: 0.693 - ETA: 0s - loss: 0.6932 - binary_crossentropy: 0.693 - ETA: 0s - loss: 0.6932 - binary_crossentropy: 0.693 - ETA: 0s - loss: 0.6932 - binary_crossentropy: 0.693 - ETA: 0s - loss: 0.6932 - binary_crossentropy: 0.693 - ETA: 0s - loss: 0.6932 - binary_crossentropy: 0.693 - 3s 33us/step - loss: 0.6932 - binary_crossentropy: 0.6932 - val_loss: 0.6931 - val_binary_crossentropy: 0.6931\n",
      "Epoch 9/50\n",
      "78703/78703 [==============================] - ETA: 2s - loss: 0.6932 - binary_crossentropy: 0.693 - ETA: 2s - loss: 0.6932 - binary_crossentropy: 0.693 - ETA: 1s - loss: 0.6932 - binary_crossentropy: 0.693 - ETA: 1s - loss: 0.6932 - binary_crossentropy: 0.693 - ETA: 1s - loss: 0.6932 - binary_crossentropy: 0.693 - ETA: 1s - loss: 0.6932 - binary_crossentropy: 0.693 - ETA: 1s - loss: 0.6932 - binary_crossentropy: 0.693 - ETA: 0s - loss: 0.6932 - binary_crossentropy: 0.693 - ETA: 0s - loss: 0.6932 - binary_crossentropy: 0.693 - ETA: 0s - loss: 0.6932 - binary_crossentropy: 0.693 - ETA: 0s - loss: 0.6932 - binary_crossentropy: 0.693 - ETA: 0s - loss: 0.6932 - binary_crossentropy: 0.693 - ETA: 0s - loss: 0.6932 - binary_crossentropy: 0.693 - 3s 33us/step - loss: 0.6932 - binary_crossentropy: 0.6932 - val_loss: 0.6931 - val_binary_crossentropy: 0.6931\n",
      "Epoch 10/50\n",
      "78703/78703 [==============================] - ETA: 2s - loss: 0.6931 - binary_crossentropy: 0.693 - ETA: 2s - loss: 0.6932 - binary_crossentropy: 0.693 - ETA: 1s - loss: 0.6932 - binary_crossentropy: 0.693 - ETA: 1s - loss: 0.6932 - binary_crossentropy: 0.693 - ETA: 1s - loss: 0.6932 - binary_crossentropy: 0.693 - ETA: 1s - loss: 0.6932 - binary_crossentropy: 0.693 - ETA: 1s - loss: 0.6932 - binary_crossentropy: 0.693 - ETA: 0s - loss: 0.6932 - binary_crossentropy: 0.693 - ETA: 0s - loss: 0.6932 - binary_crossentropy: 0.693 - ETA: 0s - loss: 0.6932 - binary_crossentropy: 0.693 - ETA: 0s - loss: 0.6932 - binary_crossentropy: 0.693 - ETA: 0s - loss: 0.6932 - binary_crossentropy: 0.693 - ETA: 0s - loss: 0.6932 - binary_crossentropy: 0.693 - 3s 33us/step - loss: 0.6932 - binary_crossentropy: 0.6932 - val_loss: 0.6932 - val_binary_crossentropy: 0.6932\n",
      "Epoch 11/50\n",
      "78703/78703 [==============================] - ETA: 2s - loss: 0.6933 - binary_crossentropy: 0.693 - ETA: 2s - loss: 0.6933 - binary_crossentropy: 0.693 - ETA: 1s - loss: 0.6933 - binary_crossentropy: 0.693 - ETA: 1s - loss: 0.6933 - binary_crossentropy: 0.693 - ETA: 1s - loss: 0.6932 - binary_crossentropy: 0.693 - ETA: 1s - loss: 0.6932 - binary_crossentropy: 0.693 - ETA: 1s - loss: 0.6932 - binary_crossentropy: 0.693 - ETA: 0s - loss: 0.6932 - binary_crossentropy: 0.693 - ETA: 0s - loss: 0.6932 - binary_crossentropy: 0.693 - ETA: 0s - loss: 0.6932 - binary_crossentropy: 0.693 - ETA: 0s - loss: 0.6932 - binary_crossentropy: 0.693 - ETA: 0s - loss: 0.6932 - binary_crossentropy: 0.693 - ETA: 0s - loss: 0.6932 - binary_crossentropy: 0.693 - 3s 33us/step - loss: 0.6932 - binary_crossentropy: 0.6932 - val_loss: 0.6932 - val_binary_crossentropy: 0.6932\n",
      "Epoch 12/50\n",
      "78703/78703 [==============================] - ETA: 2s - loss: 0.6931 - binary_crossentropy: 0.693 - ETA: 2s - loss: 0.6932 - binary_crossentropy: 0.693 - ETA: 1s - loss: 0.6932 - binary_crossentropy: 0.693 - ETA: 1s - loss: 0.6932 - binary_crossentropy: 0.693 - ETA: 1s - loss: 0.6932 - binary_crossentropy: 0.693 - ETA: 1s - loss: 0.6932 - binary_crossentropy: 0.693 - ETA: 1s - loss: 0.6932 - binary_crossentropy: 0.693 - ETA: 0s - loss: 0.6932 - binary_crossentropy: 0.693 - ETA: 0s - loss: 0.6932 - binary_crossentropy: 0.693 - ETA: 0s - loss: 0.6932 - binary_crossentropy: 0.693 - ETA: 0s - loss: 0.6932 - binary_crossentropy: 0.693 - ETA: 0s - loss: 0.6932 - binary_crossentropy: 0.693 - ETA: 0s - loss: 0.6932 - binary_crossentropy: 0.693 - 3s 33us/step - loss: 0.6932 - binary_crossentropy: 0.6932 - val_loss: 0.6931 - val_binary_crossentropy: 0.6931\n",
      "Epoch 13/50\n",
      "78703/78703 [==============================] - ETA: 2s - loss: 0.6933 - binary_crossentropy: 0.693 - ETA: 2s - loss: 0.6932 - binary_crossentropy: 0.693 - ETA: 1s - loss: 0.6932 - binary_crossentropy: 0.693 - ETA: 1s - loss: 0.6932 - binary_crossentropy: 0.693 - ETA: 1s - loss: 0.6932 - binary_crossentropy: 0.693 - ETA: 1s - loss: 0.6932 - binary_crossentropy: 0.693 - ETA: 1s - loss: 0.6932 - binary_crossentropy: 0.693 - ETA: 0s - loss: 0.6932 - binary_crossentropy: 0.693 - ETA: 0s - loss: 0.6932 - binary_crossentropy: 0.693 - ETA: 0s - loss: 0.6932 - binary_crossentropy: 0.693 - ETA: 0s - loss: 0.6932 - binary_crossentropy: 0.693 - ETA: 0s - loss: 0.6932 - binary_crossentropy: 0.693 - ETA: 0s - loss: 0.6932 - binary_crossentropy: 0.693 - 3s 33us/step - loss: 0.6932 - binary_crossentropy: 0.6932 - val_loss: 0.6931 - val_binary_crossentropy: 0.6931\n",
      "Epoch 14/50\n",
      "78703/78703 [==============================] - ETA: 2s - loss: 0.6933 - binary_crossentropy: 0.693 - ETA: 2s - loss: 0.6932 - binary_crossentropy: 0.693 - ETA: 1s - loss: 0.6932 - binary_crossentropy: 0.693 - ETA: 1s - loss: 0.6932 - binary_crossentropy: 0.693 - ETA: 1s - loss: 0.6932 - binary_crossentropy: 0.693 - ETA: 1s - loss: 0.6933 - binary_crossentropy: 0.693 - ETA: 1s - loss: 0.6933 - binary_crossentropy: 0.693 - ETA: 0s - loss: 0.6932 - binary_crossentropy: 0.693 - ETA: 0s - loss: 0.6933 - binary_crossentropy: 0.693 - ETA: 0s - loss: 0.6932 - binary_crossentropy: 0.693 - ETA: 0s - loss: 0.6932 - binary_crossentropy: 0.693 - ETA: 0s - loss: 0.6933 - binary_crossentropy: 0.693 - ETA: 0s - loss: 0.6933 - binary_crossentropy: 0.693 - 3s 33us/step - loss: 0.6933 - binary_crossentropy: 0.6933 - val_loss: 0.6931 - val_binary_crossentropy: 0.6931\n",
      "Epoch 15/50\n",
      "78703/78703 [==============================] - ETA: 2s - loss: 0.6931 - binary_crossentropy: 0.693 - ETA: 2s - loss: 0.6931 - binary_crossentropy: 0.693 - ETA: 1s - loss: 0.6932 - binary_crossentropy: 0.693 - ETA: 1s - loss: 0.6932 - binary_crossentropy: 0.693 - ETA: 1s - loss: 0.6932 - binary_crossentropy: 0.693 - ETA: 1s - loss: 0.6932 - binary_crossentropy: 0.693 - ETA: 1s - loss: 0.6932 - binary_crossentropy: 0.693 - ETA: 0s - loss: 0.6932 - binary_crossentropy: 0.693 - ETA: 0s - loss: 0.6932 - binary_crossentropy: 0.693 - ETA: 0s - loss: 0.6932 - binary_crossentropy: 0.693 - ETA: 0s - loss: 0.6932 - binary_crossentropy: 0.693 - ETA: 0s - loss: 0.6932 - binary_crossentropy: 0.693 - ETA: 0s - loss: 0.6932 - binary_crossentropy: 0.693 - 3s 33us/step - loss: 0.6932 - binary_crossentropy: 0.6932 - val_loss: 0.6931 - val_binary_crossentropy: 0.6931\n",
      "Epoch 16/50\n",
      "78703/78703 [==============================] - ETA: 2s - loss: 0.6931 - binary_crossentropy: 0.693 - ETA: 2s - loss: 0.6932 - binary_crossentropy: 0.693 - ETA: 1s - loss: 0.6932 - binary_crossentropy: 0.693 - ETA: 1s - loss: 0.6932 - binary_crossentropy: 0.693 - ETA: 1s - loss: 0.6932 - binary_crossentropy: 0.693 - ETA: 1s - loss: 0.6932 - binary_crossentropy: 0.693 - ETA: 1s - loss: 0.6932 - binary_crossentropy: 0.693 - ETA: 0s - loss: 0.6932 - binary_crossentropy: 0.693 - ETA: 0s - loss: 0.6932 - binary_crossentropy: 0.693 - ETA: 0s - loss: 0.6932 - binary_crossentropy: 0.693 - ETA: 0s - loss: 0.6932 - binary_crossentropy: 0.693 - ETA: 0s - loss: 0.6932 - binary_crossentropy: 0.693 - ETA: 0s - loss: 0.6932 - binary_crossentropy: 0.693 - 3s 33us/step - loss: 0.6932 - binary_crossentropy: 0.6932 - val_loss: 0.6931 - val_binary_crossentropy: 0.6931\n",
      "Epoch 17/50\n",
      "78703/78703 [==============================] - ETA: 2s - loss: 0.6931 - binary_crossentropy: 0.693 - ETA: 2s - loss: 0.6932 - binary_crossentropy: 0.693 - ETA: 1s - loss: 0.6932 - binary_crossentropy: 0.693 - ETA: 1s - loss: 0.6932 - binary_crossentropy: 0.693 - ETA: 1s - loss: 0.6932 - binary_crossentropy: 0.693 - ETA: 1s - loss: 0.6932 - binary_crossentropy: 0.693 - ETA: 1s - loss: 0.6932 - binary_crossentropy: 0.693 - ETA: 0s - loss: 0.6932 - binary_crossentropy: 0.693 - ETA: 0s - loss: 0.6932 - binary_crossentropy: 0.693 - ETA: 0s - loss: 0.6932 - binary_crossentropy: 0.693 - ETA: 0s - loss: 0.6932 - binary_crossentropy: 0.693 - ETA: 0s - loss: 0.6932 - binary_crossentropy: 0.693 - ETA: 0s - loss: 0.6932 - binary_crossentropy: 0.693 - 3s 33us/step - loss: 0.6932 - binary_crossentropy: 0.6932 - val_loss: 0.6931 - val_binary_crossentropy: 0.6931\n",
      "Epoch 18/50\n",
      "78703/78703 [==============================] - ETA: 2s - loss: 0.6931 - binary_crossentropy: 0.693 - ETA: 2s - loss: 0.6931 - binary_crossentropy: 0.693 - ETA: 1s - loss: 0.6931 - binary_crossentropy: 0.693 - ETA: 1s - loss: 0.6931 - binary_crossentropy: 0.693 - ETA: 1s - loss: 0.6932 - binary_crossentropy: 0.693 - ETA: 1s - loss: 0.6932 - binary_crossentropy: 0.693 - ETA: 1s - loss: 0.6932 - binary_crossentropy: 0.693 - ETA: 0s - loss: 0.6932 - binary_crossentropy: 0.693 - ETA: 0s - loss: 0.6932 - binary_crossentropy: 0.693 - ETA: 0s - loss: 0.6932 - binary_crossentropy: 0.693 - ETA: 0s - loss: 0.6932 - binary_crossentropy: 0.693 - ETA: 0s - loss: 0.6932 - binary_crossentropy: 0.693 - ETA: 0s - loss: 0.6932 - binary_crossentropy: 0.693 - 3s 33us/step - loss: 0.6932 - binary_crossentropy: 0.6932 - val_loss: 0.6931 - val_binary_crossentropy: 0.6931\n",
      "Epoch 19/50\n"
     ]
    },
    {
     "name": "stdout",
     "output_type": "stream",
     "text": [
      "78703/78703 [==============================] - ETA: 2s - loss: 0.6932 - binary_crossentropy: 0.693 - ETA: 2s - loss: 0.6931 - binary_crossentropy: 0.693 - ETA: 1s - loss: 0.6932 - binary_crossentropy: 0.693 - ETA: 1s - loss: 0.6932 - binary_crossentropy: 0.693 - ETA: 1s - loss: 0.6932 - binary_crossentropy: 0.693 - ETA: 1s - loss: 0.6932 - binary_crossentropy: 0.693 - ETA: 1s - loss: 0.6932 - binary_crossentropy: 0.693 - ETA: 0s - loss: 0.6932 - binary_crossentropy: 0.693 - ETA: 0s - loss: 0.6932 - binary_crossentropy: 0.693 - ETA: 0s - loss: 0.6932 - binary_crossentropy: 0.693 - ETA: 0s - loss: 0.6932 - binary_crossentropy: 0.693 - ETA: 0s - loss: 0.6932 - binary_crossentropy: 0.693 - ETA: 0s - loss: 0.6932 - binary_crossentropy: 0.693 - 3s 33us/step - loss: 0.6932 - binary_crossentropy: 0.6932 - val_loss: 0.6932 - val_binary_crossentropy: 0.6932\n",
      "Epoch 20/50\n",
      "78703/78703 [==============================] - ETA: 2s - loss: 0.6931 - binary_crossentropy: 0.693 - ETA: 2s - loss: 0.6932 - binary_crossentropy: 0.693 - ETA: 1s - loss: 0.6932 - binary_crossentropy: 0.693 - ETA: 1s - loss: 0.6932 - binary_crossentropy: 0.693 - ETA: 1s - loss: 0.6932 - binary_crossentropy: 0.693 - ETA: 1s - loss: 0.6932 - binary_crossentropy: 0.693 - ETA: 1s - loss: 0.6932 - binary_crossentropy: 0.693 - ETA: 0s - loss: 0.6932 - binary_crossentropy: 0.693 - ETA: 0s - loss: 0.6932 - binary_crossentropy: 0.693 - ETA: 0s - loss: 0.6932 - binary_crossentropy: 0.693 - ETA: 0s - loss: 0.6932 - binary_crossentropy: 0.693 - ETA: 0s - loss: 0.6932 - binary_crossentropy: 0.693 - ETA: 0s - loss: 0.6932 - binary_crossentropy: 0.693 - 3s 33us/step - loss: 0.6932 - binary_crossentropy: 0.6932 - val_loss: 0.6932 - val_binary_crossentropy: 0.6932\n",
      "Epoch 21/50\n",
      "78703/78703 [==============================] - ETA: 2s - loss: 0.6933 - binary_crossentropy: 0.693 - ETA: 2s - loss: 0.6933 - binary_crossentropy: 0.693 - ETA: 1s - loss: 0.6932 - binary_crossentropy: 0.693 - ETA: 1s - loss: 0.6932 - binary_crossentropy: 0.693 - ETA: 1s - loss: 0.6932 - binary_crossentropy: 0.693 - ETA: 1s - loss: 0.6932 - binary_crossentropy: 0.693 - ETA: 1s - loss: 0.6933 - binary_crossentropy: 0.693 - ETA: 0s - loss: 0.6932 - binary_crossentropy: 0.693 - ETA: 0s - loss: 0.6932 - binary_crossentropy: 0.693 - ETA: 0s - loss: 0.6932 - binary_crossentropy: 0.693 - ETA: 0s - loss: 0.6932 - binary_crossentropy: 0.693 - ETA: 0s - loss: 0.6932 - binary_crossentropy: 0.693 - ETA: 0s - loss: 0.6932 - binary_crossentropy: 0.693 - 3s 33us/step - loss: 0.6932 - binary_crossentropy: 0.6932 - val_loss: 0.6932 - val_binary_crossentropy: 0.6932\n",
      "Epoch 22/50\n",
      "78703/78703 [==============================] - ETA: 2s - loss: 0.6931 - binary_crossentropy: 0.693 - ETA: 2s - loss: 0.6932 - binary_crossentropy: 0.693 - ETA: 1s - loss: 0.6931 - binary_crossentropy: 0.693 - ETA: 1s - loss: 0.6932 - binary_crossentropy: 0.693 - ETA: 1s - loss: 0.6932 - binary_crossentropy: 0.693 - ETA: 1s - loss: 0.6932 - binary_crossentropy: 0.693 - ETA: 1s - loss: 0.6932 - binary_crossentropy: 0.693 - ETA: 0s - loss: 0.6932 - binary_crossentropy: 0.693 - ETA: 0s - loss: 0.6932 - binary_crossentropy: 0.693 - ETA: 0s - loss: 0.6932 - binary_crossentropy: 0.693 - ETA: 0s - loss: 0.6932 - binary_crossentropy: 0.693 - ETA: 0s - loss: 0.6932 - binary_crossentropy: 0.693 - ETA: 0s - loss: 0.6932 - binary_crossentropy: 0.693 - 3s 33us/step - loss: 0.6932 - binary_crossentropy: 0.6932 - val_loss: 0.6931 - val_binary_crossentropy: 0.6931\n",
      "Epoch 23/50\n",
      "78703/78703 [==============================] - ETA: 2s - loss: 0.6932 - binary_crossentropy: 0.693 - ETA: 2s - loss: 0.6931 - binary_crossentropy: 0.693 - ETA: 1s - loss: 0.6932 - binary_crossentropy: 0.693 - ETA: 1s - loss: 0.6932 - binary_crossentropy: 0.693 - ETA: 1s - loss: 0.6932 - binary_crossentropy: 0.693 - ETA: 1s - loss: 0.6932 - binary_crossentropy: 0.693 - ETA: 1s - loss: 0.6932 - binary_crossentropy: 0.693 - ETA: 0s - loss: 0.6932 - binary_crossentropy: 0.693 - ETA: 0s - loss: 0.6932 - binary_crossentropy: 0.693 - ETA: 0s - loss: 0.6932 - binary_crossentropy: 0.693 - ETA: 0s - loss: 0.6932 - binary_crossentropy: 0.693 - ETA: 0s - loss: 0.6932 - binary_crossentropy: 0.693 - ETA: 0s - loss: 0.6932 - binary_crossentropy: 0.693 - 3s 33us/step - loss: 0.6932 - binary_crossentropy: 0.6932 - val_loss: 0.6932 - val_binary_crossentropy: 0.6932\n",
      "Epoch 24/50\n",
      "78703/78703 [==============================] - ETA: 2s - loss: 0.6931 - binary_crossentropy: 0.693 - ETA: 2s - loss: 0.6931 - binary_crossentropy: 0.693 - ETA: 1s - loss: 0.6932 - binary_crossentropy: 0.693 - ETA: 1s - loss: 0.6931 - binary_crossentropy: 0.693 - ETA: 1s - loss: 0.6931 - binary_crossentropy: 0.693 - ETA: 1s - loss: 0.6932 - binary_crossentropy: 0.693 - ETA: 1s - loss: 0.6932 - binary_crossentropy: 0.693 - ETA: 0s - loss: 0.6932 - binary_crossentropy: 0.693 - ETA: 0s - loss: 0.6932 - binary_crossentropy: 0.693 - ETA: 0s - loss: 0.6932 - binary_crossentropy: 0.693 - ETA: 0s - loss: 0.6932 - binary_crossentropy: 0.693 - ETA: 0s - loss: 0.6932 - binary_crossentropy: 0.693 - ETA: 0s - loss: 0.6932 - binary_crossentropy: 0.693 - 3s 33us/step - loss: 0.6932 - binary_crossentropy: 0.6932 - val_loss: 0.6932 - val_binary_crossentropy: 0.6932\n",
      "Epoch 25/50\n",
      "78703/78703 [==============================] - ETA: 2s - loss: 0.6932 - binary_crossentropy: 0.693 - ETA: 2s - loss: 0.6932 - binary_crossentropy: 0.693 - ETA: 1s - loss: 0.6931 - binary_crossentropy: 0.693 - ETA: 1s - loss: 0.6931 - binary_crossentropy: 0.693 - ETA: 1s - loss: 0.6931 - binary_crossentropy: 0.693 - ETA: 1s - loss: 0.6932 - binary_crossentropy: 0.693 - ETA: 1s - loss: 0.6931 - binary_crossentropy: 0.693 - ETA: 0s - loss: 0.6931 - binary_crossentropy: 0.693 - ETA: 0s - loss: 0.6931 - binary_crossentropy: 0.693 - ETA: 0s - loss: 0.6931 - binary_crossentropy: 0.693 - ETA: 0s - loss: 0.6932 - binary_crossentropy: 0.693 - ETA: 0s - loss: 0.6932 - binary_crossentropy: 0.693 - ETA: 0s - loss: 0.6932 - binary_crossentropy: 0.693 - 3s 33us/step - loss: 0.6932 - binary_crossentropy: 0.6932 - val_loss: 0.6931 - val_binary_crossentropy: 0.6931\n",
      "Epoch 26/50\n",
      "78703/78703 [==============================] - ETA: 2s - loss: 0.6933 - binary_crossentropy: 0.693 - ETA: 2s - loss: 0.6933 - binary_crossentropy: 0.693 - ETA: 1s - loss: 0.6933 - binary_crossentropy: 0.693 - ETA: 1s - loss: 0.6933 - binary_crossentropy: 0.693 - ETA: 1s - loss: 0.6933 - binary_crossentropy: 0.693 - ETA: 1s - loss: 0.6933 - binary_crossentropy: 0.693 - ETA: 1s - loss: 0.6932 - binary_crossentropy: 0.693 - ETA: 0s - loss: 0.6932 - binary_crossentropy: 0.693 - ETA: 0s - loss: 0.6932 - binary_crossentropy: 0.693 - ETA: 0s - loss: 0.6932 - binary_crossentropy: 0.693 - ETA: 0s - loss: 0.6932 - binary_crossentropy: 0.693 - ETA: 0s - loss: 0.6932 - binary_crossentropy: 0.693 - ETA: 0s - loss: 0.6932 - binary_crossentropy: 0.693 - 3s 33us/step - loss: 0.6932 - binary_crossentropy: 0.6932 - val_loss: 0.6931 - val_binary_crossentropy: 0.6931\n",
      "Epoch 27/50\n",
      "78703/78703 [==============================] - ETA: 2s - loss: 0.6932 - binary_crossentropy: 0.693 - ETA: 2s - loss: 0.6932 - binary_crossentropy: 0.693 - ETA: 1s - loss: 0.6931 - binary_crossentropy: 0.693 - ETA: 1s - loss: 0.6931 - binary_crossentropy: 0.693 - ETA: 1s - loss: 0.6932 - binary_crossentropy: 0.693 - ETA: 1s - loss: 0.6932 - binary_crossentropy: 0.693 - ETA: 1s - loss: 0.6932 - binary_crossentropy: 0.693 - ETA: 0s - loss: 0.6932 - binary_crossentropy: 0.693 - ETA: 0s - loss: 0.6932 - binary_crossentropy: 0.693 - ETA: 0s - loss: 0.6932 - binary_crossentropy: 0.693 - ETA: 0s - loss: 0.6932 - binary_crossentropy: 0.693 - ETA: 0s - loss: 0.6932 - binary_crossentropy: 0.693 - ETA: 0s - loss: 0.6932 - binary_crossentropy: 0.693 - 3s 33us/step - loss: 0.6932 - binary_crossentropy: 0.6932 - val_loss: 0.6931 - val_binary_crossentropy: 0.6931\n",
      "Epoch 28/50\n",
      "78703/78703 [==============================] - ETA: 2s - loss: 0.6931 - binary_crossentropy: 0.693 - ETA: 2s - loss: 0.6932 - binary_crossentropy: 0.693 - ETA: 1s - loss: 0.6931 - binary_crossentropy: 0.693 - ETA: 1s - loss: 0.6932 - binary_crossentropy: 0.693 - ETA: 1s - loss: 0.6932 - binary_crossentropy: 0.693 - ETA: 1s - loss: 0.6932 - binary_crossentropy: 0.693 - ETA: 1s - loss: 0.6932 - binary_crossentropy: 0.693 - ETA: 0s - loss: 0.6932 - binary_crossentropy: 0.693 - ETA: 0s - loss: 0.6932 - binary_crossentropy: 0.693 - ETA: 0s - loss: 0.6932 - binary_crossentropy: 0.693 - ETA: 0s - loss: 0.6932 - binary_crossentropy: 0.693 - ETA: 0s - loss: 0.6932 - binary_crossentropy: 0.693 - ETA: 0s - loss: 0.6932 - binary_crossentropy: 0.693 - 3s 33us/step - loss: 0.6932 - binary_crossentropy: 0.6932 - val_loss: 0.6931 - val_binary_crossentropy: 0.6931\n",
      "Epoch 29/50\n",
      "78703/78703 [==============================] - ETA: 2s - loss: 0.6932 - binary_crossentropy: 0.693 - ETA: 2s - loss: 0.6932 - binary_crossentropy: 0.693 - ETA: 1s - loss: 0.6932 - binary_crossentropy: 0.693 - ETA: 1s - loss: 0.6932 - binary_crossentropy: 0.693 - ETA: 1s - loss: 0.6932 - binary_crossentropy: 0.693 - ETA: 1s - loss: 0.6932 - binary_crossentropy: 0.693 - ETA: 1s - loss: 0.6932 - binary_crossentropy: 0.693 - ETA: 0s - loss: 0.6932 - binary_crossentropy: 0.693 - ETA: 0s - loss: 0.6932 - binary_crossentropy: 0.693 - ETA: 0s - loss: 0.6932 - binary_crossentropy: 0.693 - ETA: 0s - loss: 0.6932 - binary_crossentropy: 0.693 - ETA: 0s - loss: 0.6932 - binary_crossentropy: 0.693 - ETA: 0s - loss: 0.6932 - binary_crossentropy: 0.693 - 3s 33us/step - loss: 0.6932 - binary_crossentropy: 0.6932 - val_loss: 0.6932 - val_binary_crossentropy: 0.6932\n",
      "Epoch 30/50\n",
      "78703/78703 [==============================] - ETA: 2s - loss: 0.6931 - binary_crossentropy: 0.693 - ETA: 2s - loss: 0.6932 - binary_crossentropy: 0.693 - ETA: 1s - loss: 0.6931 - binary_crossentropy: 0.693 - ETA: 1s - loss: 0.6932 - binary_crossentropy: 0.693 - ETA: 1s - loss: 0.6932 - binary_crossentropy: 0.693 - ETA: 1s - loss: 0.6932 - binary_crossentropy: 0.693 - ETA: 1s - loss: 0.6932 - binary_crossentropy: 0.693 - ETA: 0s - loss: 0.6932 - binary_crossentropy: 0.693 - ETA: 0s - loss: 0.6932 - binary_crossentropy: 0.693 - ETA: 0s - loss: 0.6932 - binary_crossentropy: 0.693 - ETA: 0s - loss: 0.6932 - binary_crossentropy: 0.693 - ETA: 0s - loss: 0.6932 - binary_crossentropy: 0.693 - ETA: 0s - loss: 0.6932 - binary_crossentropy: 0.693 - 3s 33us/step - loss: 0.6932 - binary_crossentropy: 0.6932 - val_loss: 0.6932 - val_binary_crossentropy: 0.6932\n",
      "Epoch 31/50\n",
      "78703/78703 [==============================] - ETA: 2s - loss: 0.6933 - binary_crossentropy: 0.693 - ETA: 2s - loss: 0.6932 - binary_crossentropy: 0.693 - ETA: 1s - loss: 0.6932 - binary_crossentropy: 0.693 - ETA: 1s - loss: 0.6932 - binary_crossentropy: 0.693 - ETA: 1s - loss: 0.6932 - binary_crossentropy: 0.693 - ETA: 1s - loss: 0.6932 - binary_crossentropy: 0.693 - ETA: 1s - loss: 0.6932 - binary_crossentropy: 0.693 - ETA: 0s - loss: 0.6932 - binary_crossentropy: 0.693 - ETA: 0s - loss: 0.6932 - binary_crossentropy: 0.693 - ETA: 0s - loss: 0.6932 - binary_crossentropy: 0.693 - ETA: 0s - loss: 0.6932 - binary_crossentropy: 0.693 - ETA: 0s - loss: 0.6932 - binary_crossentropy: 0.693 - ETA: 0s - loss: 0.6932 - binary_crossentropy: 0.693 - 3s 33us/step - loss: 0.6932 - binary_crossentropy: 0.6932 - val_loss: 0.6932 - val_binary_crossentropy: 0.6932\n",
      "Epoch 32/50\n",
      "78703/78703 [==============================] - ETA: 2s - loss: 0.6933 - binary_crossentropy: 0.693 - ETA: 2s - loss: 0.6931 - binary_crossentropy: 0.693 - ETA: 1s - loss: 0.6932 - binary_crossentropy: 0.693 - ETA: 1s - loss: 0.6932 - binary_crossentropy: 0.693 - ETA: 1s - loss: 0.6932 - binary_crossentropy: 0.693 - ETA: 1s - loss: 0.6932 - binary_crossentropy: 0.693 - ETA: 1s - loss: 0.6932 - binary_crossentropy: 0.693 - ETA: 0s - loss: 0.6932 - binary_crossentropy: 0.693 - ETA: 0s - loss: 0.6932 - binary_crossentropy: 0.693 - ETA: 0s - loss: 0.6932 - binary_crossentropy: 0.693 - ETA: 0s - loss: 0.6932 - binary_crossentropy: 0.693 - ETA: 0s - loss: 0.6932 - binary_crossentropy: 0.693 - ETA: 0s - loss: 0.6932 - binary_crossentropy: 0.693 - 3s 33us/step - loss: 0.6932 - binary_crossentropy: 0.6932 - val_loss: 0.6931 - val_binary_crossentropy: 0.6931\n",
      "Epoch 33/50\n",
      "78703/78703 [==============================] - ETA: 2s - loss: 0.6932 - binary_crossentropy: 0.693 - ETA: 2s - loss: 0.6933 - binary_crossentropy: 0.693 - ETA: 1s - loss: 0.6932 - binary_crossentropy: 0.693 - ETA: 1s - loss: 0.6933 - binary_crossentropy: 0.693 - ETA: 1s - loss: 0.6932 - binary_crossentropy: 0.693 - ETA: 1s - loss: 0.6932 - binary_crossentropy: 0.693 - ETA: 1s - loss: 0.6932 - binary_crossentropy: 0.693 - ETA: 0s - loss: 0.6932 - binary_crossentropy: 0.693 - ETA: 0s - loss: 0.6932 - binary_crossentropy: 0.693 - ETA: 0s - loss: 0.6932 - binary_crossentropy: 0.693 - ETA: 0s - loss: 0.6932 - binary_crossentropy: 0.693 - ETA: 0s - loss: 0.6932 - binary_crossentropy: 0.693 - ETA: 0s - loss: 0.6932 - binary_crossentropy: 0.693 - 3s 33us/step - loss: 0.6932 - binary_crossentropy: 0.6932 - val_loss: 0.6931 - val_binary_crossentropy: 0.6931\n",
      "Epoch 34/50\n",
      "78703/78703 [==============================] - ETA: 2s - loss: 0.6935 - binary_crossentropy: 0.693 - ETA: 2s - loss: 0.6934 - binary_crossentropy: 0.693 - ETA: 1s - loss: 0.6933 - binary_crossentropy: 0.693 - ETA: 1s - loss: 0.6933 - binary_crossentropy: 0.693 - ETA: 1s - loss: 0.6932 - binary_crossentropy: 0.693 - ETA: 1s - loss: 0.6933 - binary_crossentropy: 0.693 - ETA: 1s - loss: 0.6933 - binary_crossentropy: 0.693 - ETA: 0s - loss: 0.6933 - binary_crossentropy: 0.693 - ETA: 0s - loss: 0.6933 - binary_crossentropy: 0.693 - ETA: 0s - loss: 0.6933 - binary_crossentropy: 0.693 - ETA: 0s - loss: 0.6933 - binary_crossentropy: 0.693 - ETA: 0s - loss: 0.6932 - binary_crossentropy: 0.693 - ETA: 0s - loss: 0.6932 - binary_crossentropy: 0.693 - 3s 33us/step - loss: 0.6932 - binary_crossentropy: 0.6932 - val_loss: 0.6931 - val_binary_crossentropy: 0.6931\n",
      "Epoch 35/50\n",
      "12000/78703 [===>..........................] - ETA: 2s - loss: 0.6930 - binary_crossentropy: 0.693 - ETA: 2s - loss: 0.6931 - binary_crossentropy: 0.6931"
     ]
    }
   ],
   "source": [
    "history = model.fit(X, \n",
    "                    Y, \n",
    "                    epochs=50, \n",
    "                    batch_size=6000, \n",
    "                    shuffle=False,\n",
    "                    validation_data=(X_val, Y_val))\n",
    "\n",
    "plot(history)\n",
    "#0.6925 best"
   ]
  },
  {
   "cell_type": "code",
   "execution_count": 6,
   "metadata": {},
   "outputs": [
    {
     "name": "stdout",
     "output_type": "stream",
     "text": [
      "logistic(inverse_l2=0.0001)\n",
      "       logloss     auc     acc    ystd   stats            \n",
      "mean  0.692808  0.5194  0.5142  0.0063   tourn      bernie\n",
      "std   0.000375  0.0168  0.0137  0.0001  region  validation\n",
      "min   0.691961  0.4903  0.4925  0.0062    eras          12\n",
      "max   0.693460  0.5553  0.5342  0.0064  consis        0.75\n",
      "Done in 0.06 minutes\n",
      "Save logistic.csv\n"
     ]
    }
   ],
   "source": [
    "# we will use logistic regression; you will want to write your own model\n",
    "model = nx.logistic()\n",
    "\n",
    "# fit model with train data and make predictions for tournament data\n",
    "prediction = nx.production(model, data, tournament='bernie')\n",
    "\n",
    "# save predictions to csv file\n",
    "prediction.to_csv('logistic.csv', verbose=True)\n",
    "\n",
    "# upload predictions to Numerai to enter the tournament\n",
    "# create the public_id and secret_key on the Numerai website\n",
    "#\n",
    "# nx.upload('logistic.csv', tournament='bernie', public_id, secret_key)\n",
    "\n"
   ]
  },
  {
   "cell_type": "code",
   "execution_count": 13,
   "metadata": {},
   "outputs": [],
   "source": [
    "def gen(cols, batch_size, X, y, lookback = 10, step = 1, shuffle = True):\n",
    "    np.random.seed(42)\n",
    "    lookback = min(len(X), lookback)\n",
    "    i = lookback\n",
    "    lookback_idx = np.arange(0, lookback)\n",
    "\n",
    "    while True:\n",
    "        if shuffle:\n",
    "            rows = np.random.randint(lookback, len(X), size = batch_size)\n",
    "        else:\n",
    "            rows = list(range(i, min(len(X), i + batch_size)))\n",
    "            if i + batch_size >= len(X):\n",
    "                n_missing = (i + batch_size) - len(X)\n",
    "                rows += list(range(lookback, lookback + n_missing))\n",
    "                i = lookback + n_missing\n",
    "            else:\n",
    "                i += batch_size\n",
    "        \n",
    "        if lookback:\n",
    "            batch = np.zeros((batch_size, lookback // step, len(cols)))\n",
    "        else: \n",
    "            batch = np.zeros((batch_size, len(cols)))\n",
    "        target = np.zeros((batch_size, ))\n",
    "        # Fill up the output matrices\n",
    "        for idx, x in enumerate(rows):\n",
    "            if not lookback:\n",
    "                batch[current] = df[cols].iloc[x]\n",
    "            else:\n",
    "                batch[idx] = X[cols].iloc[x - lookback_idx]\n",
    "            target[idx] = y.iloc[x]\n",
    "        \n",
    "        yield batch, target"
   ]
  },
  {
   "cell_type": "code",
   "execution_count": 9,
   "metadata": {},
   "outputs": [
    {
     "ename": "NameError",
     "evalue": "name 'cols' is not defined",
     "output_type": "error",
     "traceback": [
      "\u001b[1;31m---------------------------------------------------------------------------\u001b[0m",
      "\u001b[1;31mNameError\u001b[0m                                 Traceback (most recent call last)",
      "\u001b[1;32m<ipython-input-9-3c014e64a7a8>\u001b[0m in \u001b[0;36m<module>\u001b[1;34m()\u001b[0m\n\u001b[0;32m      3\u001b[0m \u001b[0mc1d\u001b[0m \u001b[1;33m=\u001b[0m \u001b[0mSequential\u001b[0m\u001b[1;33m(\u001b[0m\u001b[1;33m)\u001b[0m\u001b[1;33m\u001b[0m\u001b[0m\n\u001b[0;32m      4\u001b[0m c1d.add(layers.Conv1D(32, 5, padding=\"same\", activation='relu',\n\u001b[1;32m----> 5\u001b[1;33m                         input_shape=(None, len(cols))))\n\u001b[0m\u001b[0;32m      6\u001b[0m \u001b[0mc1d\u001b[0m\u001b[1;33m.\u001b[0m\u001b[0madd\u001b[0m\u001b[1;33m(\u001b[0m\u001b[0mlayers\u001b[0m\u001b[1;33m.\u001b[0m\u001b[0mMaxPooling1D\u001b[0m\u001b[1;33m(\u001b[0m\u001b[1;36m3\u001b[0m\u001b[1;33m)\u001b[0m\u001b[1;33m)\u001b[0m\u001b[1;33m\u001b[0m\u001b[0m\n\u001b[0;32m      7\u001b[0m \u001b[1;31m#c1d.add(layers.Dropout(0.5))\u001b[0m\u001b[1;33m\u001b[0m\u001b[1;33m\u001b[0m\u001b[0m\n",
      "\u001b[1;31mNameError\u001b[0m: name 'cols' is not defined"
     ]
    }
   ],
   "source": [
    "from keras import layers\n",
    "\n",
    "\n",
    "c1d = Sequential()\n",
    "c1d.add(layers.Conv1D(32, 5, padding=\"same\", activation='relu',\n",
    "                        input_shape=(None, len(cols))))\n",
    "c1d.add(layers.MaxPooling1D(3))\n",
    "#c1d.add(layers.Dropout(0.5))\n",
    "c1d.add(layers.Conv1D(32, 9, padding=\"same\", activation='relu'))\n",
    "c1d.add(layers.MaxPooling1D(3))\n",
    "#c1d.add(layers.Dropout(0.5))\n",
    "c1d.add(layers.Conv1D(32, 5, padding=\"same\", activation='relu'))\n",
    "c1d.add(layers.GlobalMaxPooling1D())\n",
    "c1d.add(layers.Dense(1, activation=\"sigmoid\"))\n",
    "\n",
    "c1d.compile(optimizer='adam',\n",
    "              loss='binary_crossentropy',\n",
    "              metrics=['acc'])\n",
    "c1d.summary()\n"
   ]
  },
  {
   "cell_type": "code",
   "execution_count": null,
   "metadata": {},
   "outputs": [],
   "source": [
    "train_gen =  gen(cols, batch_size, train, train[\"target_elizabeth\"], lookback)\n",
    "\n",
    "val_gen =  gen(cols, batch_size, validation, validation[\"target_elizabeth\"], lookback)\n",
    "test_gen =  gen(cols, 1000, validation, validation[\"target_elizabeth\"], lookback)\n"
   ]
  }
 ],
 "metadata": {
  "kernelspec": {
   "display_name": "Python [default]",
   "language": "python",
   "name": "python3"
  },
  "language_info": {
   "codemirror_mode": {
    "name": "ipython",
    "version": 3
   },
   "file_extension": ".py",
   "mimetype": "text/x-python",
   "name": "python",
   "nbconvert_exporter": "python",
   "pygments_lexer": "ipython3",
   "version": "3.6.5"
  }
 },
 "nbformat": 4,
 "nbformat_minor": 2
}
